{
  "nbformat": 4,
  "nbformat_minor": 0,
  "metadata": {
    "colab": {
      "provenance": [],
      "include_colab_link": true
    },
    "kernelspec": {
      "name": "python3",
      "display_name": "Python 3"
    },
    "language_info": {
      "name": "python"
    }
  },
  "cells": [
    {
      "cell_type": "markdown",
      "metadata": {
        "id": "view-in-github",
        "colab_type": "text"
      },
      "source": [
        "<a href=\"https://colab.research.google.com/github/Sandr001/Data-Mining-MGT7216/blob/development/MGT7216_Sentiment_Analytics.ipynb\" target=\"_parent\"><img src=\"https://colab.research.google.com/assets/colab-badge.svg\" alt=\"Open In Colab\"/></a>"
      ]
    },
    {
      "cell_type": "markdown",
      "source": [
        "# **Sentiment Analysis using Semi-Supervised Learning - 1**\n",
        "**Self Learning Approach:**"
      ],
      "metadata": {
        "id": "mSSUAC-CRB52"
      }
    },
    {
      "cell_type": "markdown",
      "source": [
        "**Import necessary packages**"
      ],
      "metadata": {
        "id": "P2DJggCvRVse"
      }
    },
    {
      "cell_type": "code",
      "source": [
        "from google.colab import drive\n",
        "drive.mount('/content/drive')"
      ],
      "metadata": {
        "colab": {
          "base_uri": "https://localhost:8080/"
        },
        "id": "1W6fCPMgdVnc",
        "outputId": "133fab92-addc-488c-c2e6-a9878dcdc012"
      },
      "execution_count": 39,
      "outputs": [
        {
          "output_type": "stream",
          "name": "stdout",
          "text": [
            "Drive already mounted at /content/drive; to attempt to forcibly remount, call drive.mount(\"/content/drive\", force_remount=True).\n"
          ]
        }
      ]
    },
    {
      "cell_type": "code",
      "source": [
        "import pandas as pd\n",
        "import numpy as np\n",
        "import re\n",
        "\n",
        "import nltk\n",
        "nltk.download('punkt')\n",
        "from nltk.corpus import stopwords\n",
        "nltk.download('stopwords')\n",
        "from nltk.stem import WordNetLemmatizer\n",
        "nltk.download('wordnet')\n",
        "from nltk.tokenize import word_tokenize\n",
        "\n",
        "from sklearn.feature_extraction.text import CountVectorizer, TfidfTransformer\n",
        "from sklearn.linear_model import SGDClassifier\n",
        "from sklearn.metrics import f1_score\n",
        "from sklearn.model_selection import train_test_split\n",
        "from sklearn.pipeline import Pipeline\n",
        "from sklearn.preprocessing import FunctionTransformer\n",
        "from sklearn.semi_supervised import SelfTrainingClassifier\n",
        "from sklearn.metrics import confusion_matrix, accuracy_score, classification_report"
      ],
      "metadata": {
        "id": "PLNYtXK8RV1Z",
        "colab": {
          "base_uri": "https://localhost:8080/"
        },
        "outputId": "841f2111-246f-465a-cb48-b9e1dc12935e",
        "collapsed": true
      },
      "execution_count": 40,
      "outputs": [
        {
          "output_type": "stream",
          "name": "stderr",
          "text": [
            "[nltk_data] Downloading package punkt to /root/nltk_data...\n",
            "[nltk_data]   Package punkt is already up-to-date!\n",
            "[nltk_data] Downloading package stopwords to /root/nltk_data...\n",
            "[nltk_data]   Package stopwords is already up-to-date!\n",
            "[nltk_data] Downloading package wordnet to /root/nltk_data...\n",
            "[nltk_data]   Package wordnet is already up-to-date!\n"
          ]
        }
      ]
    },
    {
      "cell_type": "code",
      "source": [
        "df = pd.read_excel(\"/content/drive/MyDrive/Data Mining/A_II_Emotion_Data_Student_Copy_Final.xlsx\")"
      ],
      "metadata": {
        "id": "UdYUqkaCdem6"
      },
      "execution_count": 41,
      "outputs": []
    },
    {
      "cell_type": "markdown",
      "source": [
        "**Descriptive Statistics**"
      ],
      "metadata": {
        "id": "0LC2aGRPe46q"
      }
    },
    {
      "cell_type": "code",
      "source": [
        "print(\"\\033[1mThe dimension of the data:\\033[0m\", df.shape)\n",
        "\n",
        "null_counts = df.isnull().sum()\n",
        "print(\"\\n\\033[1mColumn wise Null value counts:\\033[0m\")\n",
        "print(null_counts)\n",
        "\n",
        "for column in [\"brand_name_\", \"country_\", \"star_rating_\"]:\n",
        "    print(\"\\n\\033[1mUnique levels for column '{}':\\033[0m\".format(column), df[column].unique())\n",
        "\n",
        "print(f\"\\n\\033[1mCount for the Countries:\\033[0m {len(df['country_'].unique())}\")\n",
        "\n",
        "print(f\"\\n\\033[1m Labeled Data Count:\\033[0m {df['emotions_'].notnull().sum()}\")\n",
        "\n",
        "print(f\"\\n\\033[1m Unlabeled Data Count:\\033[0m {df['emotions_'].isnull().sum()}\")"
      ],
      "metadata": {
        "colab": {
          "base_uri": "https://localhost:8080/"
        },
        "id": "TukuMU5sbLJ9",
        "outputId": "7e9eba21-f534-4c7b-f177-788fd3f6640c"
      },
      "execution_count": 42,
      "outputs": [
        {
          "output_type": "stream",
          "name": "stdout",
          "text": [
            "\u001b[1mThe dimension of the data:\u001b[0m (5722, 6)\n",
            "\n",
            "\u001b[1mColumn wise Null value counts:\u001b[0m\n",
            "ID_                 0\n",
            "brand_name_         0\n",
            "country_            0\n",
            "star_rating_        0\n",
            "emotions_        5095\n",
            "text_reviews_       0\n",
            "dtype: int64\n",
            "\n",
            "\u001b[1mUnique levels for column 'brand_name_':\u001b[0m ['Z_' 'H_']\n",
            "\n",
            "\u001b[1mUnique levels for column 'country_':\u001b[0m ['US' 'GB' 'FRI' 'HR' 'NO' 'IE' 'CA' 'DK' 'PT' 'ES' 'AT' 'IN' 'IT' 'NL'\n",
            " 'DE' 'AU' 'CZ' 'RO' 'FI' 'FR' 'GR' 'SI' 'HK' 'HU' 'MY' 'UA' 'MX' 'TR'\n",
            " 'ZA' 'BE' 'RS' 'AE' 'SE' 'EN' 'CH' 'MAL' 'PL' 'LV' 'MK' 'IS' 'LB' 'PH'\n",
            " 'JP' 'SG' 'LU' 'PE' 'SK' 'LT' 'BR' 'CO' 'TN' 'TH' 'CY' 'IL' 'HN' 'DO'\n",
            " 'VN' 'CL' 'AR' 'UY' 'IR' 'PK' 'PA' 'NZ' 'GE' 'RE' 'MT' 'VE' 'CW' 'NI'\n",
            " 'PR' 'AM' 'CN' 'KR' 'MQ' 'BG' 'MA' 'ID' 'EC' 'BD' 'EE' 'DZ' 'SX' 'KE'\n",
            " 'AL' 'RU' 'SM' 'XK' 'JM' '.PL' 'MD' 'OM' 'BF']\n",
            "\n",
            "\u001b[1mUnique levels for column 'star_rating_':\u001b[0m [5 1 2 3 4]\n",
            "\n",
            "\u001b[1mCount for the Countries:\u001b[0m 93\n",
            "\n",
            "\u001b[1m Labeled Data Count:\u001b[0m 627\n",
            "\n",
            "\u001b[1m Unlabeled Data Count:\u001b[0m 5095\n"
          ]
        }
      ]
    },
    {
      "cell_type": "code",
      "source": [
        "# !pip install langdetect\n",
        "\n",
        "from langdetect import detect\n",
        "\n",
        "df_reviews_filtered = df.dropna(subset=['text_reviews_']).loc[df['text_reviews_'] != '']\n",
        "\n",
        "# Function to detect language\n",
        "def detect_language(text):\n",
        "    try:\n",
        "        lang = detect(text)\n",
        "        return lang\n",
        "    except:\n",
        "        return 'unknown'\n",
        "\n",
        "# Apply language detection function to the text reviews column\n",
        "df_reviews_filtered['language'] = df_reviews_filtered['text_reviews_'].apply(detect_language)\n",
        "\n",
        "# Count the number of text reviews that are not in English or are empty\n",
        "non_english_count = df_reviews_filtered[(df_reviews_filtered['language'] != 'en')].shape[0]\n",
        "\n",
        "print(\"Count for text reviews that are not in English or are empty:\", non_english_count)\n"
      ],
      "metadata": {
        "colab": {
          "base_uri": "https://localhost:8080/"
        },
        "id": "rPC3F6Ylml5p",
        "outputId": "50cd85f2-6fb6-4079-c6c8-9f1ed9a0ff73"
      },
      "execution_count": 34,
      "outputs": [
        {
          "output_type": "stream",
          "name": "stdout",
          "text": [
            "Count for text reviews that are not in English or are empty: 2922\n"
          ]
        }
      ]
    },
    {
      "cell_type": "markdown",
      "source": [
        "**Create a Definition: Custom cleaning function**"
      ],
      "metadata": {
        "id": "zGDDdccrRV9u"
      }
    },
    {
      "cell_type": "code",
      "source": [
        "def clean_text(text):\n",
        "    text = re.sub(r'http\\S+', '', text)  # Remove URLs\n",
        "    text = re.sub(r'<[^>]+>', '', text)  # Remove HTML tags\n",
        "    text = text.lower()  # Lowercase text\n",
        "    text = re.sub(r'\\b\\w{1,2}\\b', '', text)  # Remove words with 1 or 2 letters\n",
        "    text = re.sub(r'[^a-z\\s]', '', text)  # Keep text with letters and spaces\n",
        "\n",
        "    # Tokenize\n",
        "    tokens = word_tokenize(text)\n",
        "\n",
        "    # Remove stopwords\n",
        "    stop_words = set(stopwords.words('english'))\n",
        "    tokens = [word for word in tokens if word not in stop_words]\n",
        "\n",
        "    # Lemmatize\n",
        "    lemmatizer = WordNetLemmatizer()\n",
        "    tokens = [lemmatizer.lemmatize(word) for word in tokens]\n",
        "\n",
        "    return ' '.join(tokens)"
      ],
      "metadata": {
        "id": "6hbJrLMyMbOn"
      },
      "execution_count": 44,
      "outputs": []
    },
    {
      "cell_type": "markdown",
      "source": [
        "**Clean the Reviews**"
      ],
      "metadata": {
        "id": "lRUz3B9nMizx"
      }
    },
    {
      "cell_type": "code",
      "source": [
        "df['cleaned_reviews'] = df['text_reviews_'].apply(clean_text)\n",
        "print(\"Total cleaned reviews = \", len(df['cleaned_reviews']), \"\\n\\n\", df[\"cleaned_reviews\"])"
      ],
      "metadata": {
        "id": "A875mU2PPx93",
        "colab": {
          "base_uri": "https://localhost:8080/"
        },
        "outputId": "013ebfb2-ae76-4a43-e7cd-4a352fe94650",
        "collapsed": true
      },
      "execution_count": 45,
      "outputs": [
        {
          "output_type": "stream",
          "name": "stdout",
          "text": [
            "Total cleaned reviews =  5722 \n",
            "\n",
            " 0          fast shipping cloth finally fit well satisfied\n",
            "1       wanted say delighted friendly helpful staff me...\n",
            "2       order took day snow day weekend happy sweater ...\n",
            "3       wouldnt give star ordered coat week ago receiv...\n",
            "4       parcel never arrived chasing refund substantia...\n",
            "                              ...                        \n",
            "5717    given star could known evri hermes courier wou...\n",
            "5718    wanted change delivery location item within ho...\n",
            "5719    waiting since believe sent order wrong country...\n",
            "5720    complain late delivery horrendous compnay revi...\n",
            "5721    placed order th november alert order could tak...\n",
            "Name: cleaned_reviews, Length: 5722, dtype: object\n"
          ]
        }
      ]
    },
    {
      "cell_type": "code",
      "source": [
        "!pip install langdetect\n",
        "!pip install googletrans==4.0.0-rc1"
      ],
      "metadata": {
        "colab": {
          "base_uri": "https://localhost:8080/"
        },
        "id": "RCjdR8xdQ9X1",
        "outputId": "d5523706-3e7b-42fe-8ae6-d2e221b46d92"
      },
      "execution_count": 46,
      "outputs": [
        {
          "output_type": "stream",
          "name": "stdout",
          "text": [
            "Requirement already satisfied: langdetect in /usr/local/lib/python3.10/dist-packages (1.0.9)\n",
            "Requirement already satisfied: six in /usr/local/lib/python3.10/dist-packages (from langdetect) (1.16.0)\n",
            "Requirement already satisfied: googletrans==4.0.0-rc1 in /usr/local/lib/python3.10/dist-packages (4.0.0rc1)\n",
            "Requirement already satisfied: httpx==0.13.3 in /usr/local/lib/python3.10/dist-packages (from googletrans==4.0.0-rc1) (0.13.3)\n",
            "Requirement already satisfied: certifi in /usr/local/lib/python3.10/dist-packages (from httpx==0.13.3->googletrans==4.0.0-rc1) (2024.2.2)\n",
            "Requirement already satisfied: hstspreload in /usr/local/lib/python3.10/dist-packages (from httpx==0.13.3->googletrans==4.0.0-rc1) (2024.4.1)\n",
            "Requirement already satisfied: sniffio in /usr/local/lib/python3.10/dist-packages (from httpx==0.13.3->googletrans==4.0.0-rc1) (1.3.1)\n",
            "Requirement already satisfied: chardet==3.* in /usr/local/lib/python3.10/dist-packages (from httpx==0.13.3->googletrans==4.0.0-rc1) (3.0.4)\n",
            "Requirement already satisfied: idna==2.* in /usr/local/lib/python3.10/dist-packages (from httpx==0.13.3->googletrans==4.0.0-rc1) (2.10)\n",
            "Requirement already satisfied: rfc3986<2,>=1.3 in /usr/local/lib/python3.10/dist-packages (from httpx==0.13.3->googletrans==4.0.0-rc1) (1.5.0)\n",
            "Requirement already satisfied: httpcore==0.9.* in /usr/local/lib/python3.10/dist-packages (from httpx==0.13.3->googletrans==4.0.0-rc1) (0.9.1)\n",
            "Requirement already satisfied: h11<0.10,>=0.8 in /usr/local/lib/python3.10/dist-packages (from httpcore==0.9.*->httpx==0.13.3->googletrans==4.0.0-rc1) (0.9.0)\n",
            "Requirement already satisfied: h2==3.* in /usr/local/lib/python3.10/dist-packages (from httpcore==0.9.*->httpx==0.13.3->googletrans==4.0.0-rc1) (3.2.0)\n",
            "Requirement already satisfied: hyperframe<6,>=5.2.0 in /usr/local/lib/python3.10/dist-packages (from h2==3.*->httpcore==0.9.*->httpx==0.13.3->googletrans==4.0.0-rc1) (5.2.0)\n",
            "Requirement already satisfied: hpack<4,>=3.0 in /usr/local/lib/python3.10/dist-packages (from h2==3.*->httpcore==0.9.*->httpx==0.13.3->googletrans==4.0.0-rc1) (3.0.0)\n"
          ]
        }
      ]
    },
    {
      "cell_type": "code",
      "source": [
        "from googletrans import Translator\n",
        "from langdetect import detect\n",
        "\n",
        "# Assuming df is your DataFrame and 'Text Reviews' is the column containing text reviews\n",
        "translator = Translator()\n",
        "\n",
        "# Translate non-English texts to English\n",
        "def translate_to_english(text):\n",
        "    try:\n",
        "        # Check if the language of the text is not English\n",
        "        if detect(text) != 'en':\n",
        "            translated_text = translator.translate(text, dest='en').text\n",
        "            return translated_text\n",
        "        else:\n",
        "            return text  # Return original text if already in English\n",
        "    except:\n",
        "        return text  # Return original text if translation fails\n",
        "\n",
        "# Apply translation to non-English texts\n",
        "df['cleaned_reviews'] = df['cleaned_reviews'].apply(translate_to_english)\n",
        "\n",
        "# Print the DataFrame to verify the translated texts\n",
        "print(df)\n"
      ],
      "metadata": {
        "id": "4bIt7a2h6OHN",
        "colab": {
          "base_uri": "https://localhost:8080/"
        },
        "outputId": "13b8060a-ee1b-4cb4-fd3b-31d6234fba68"
      },
      "execution_count": 47,
      "outputs": [
        {
          "output_type": "stream",
          "name": "stdout",
          "text": [
            "         ID_ brand_name_ country_  star_rating_ emotions_  \\\n",
            "0        ID1          Z_       US             5       NaN   \n",
            "1       ID10          Z_       GB             5       NaN   \n",
            "2      ID100          H_      FRI             5       joy   \n",
            "3     ID1000          H_       GB             1      fear   \n",
            "4     ID1001          H_       GB             1       NaN   \n",
            "...      ...         ...      ...           ...       ...   \n",
            "5717   ID995          H_       GB             1       NaN   \n",
            "5718   ID996          H_       GB             1       NaN   \n",
            "5719   ID997          H_       CY             1       NaN   \n",
            "5720   ID998          H_       GB             1       NaN   \n",
            "5721   ID999          H_       NL             1       NaN   \n",
            "\n",
            "                                          text_reviews_  \\\n",
            "0     Fast shipping! All cloths was finally fits wel...   \n",
            "1     Just wanted to say how delighted I was with th...   \n",
            "2     My order took 6 days with a snow day and a wee...   \n",
            "3     Wouldnt give them no stars. I ordered a coat 4...   \n",
            "4     Parcel never arrived. Chasing for a refund for...   \n",
            "...                                                 ...   \n",
            "5717  IÃÂ¯ÃÂ¾ÃÆÃÂ£ÃÆÃÂ£ÃÂ¯ÃÂ¾ÃÆÃÂ¯ÃÂ½Ã...   \n",
            "5718  I wanted to change the delivery location of my...   \n",
            "5719  Waiting since 24/14/2022. I believe the sent m...   \n",
            "5720  Who do you complain to about late deliveries f...   \n",
            "5721  Placed an order on the 24th November. H_ alert...   \n",
            "\n",
            "                                        cleaned_reviews  \n",
            "0        fast shipping cloth finally fit well satisfied  \n",
            "1     wanted say delighted friendly helpful staff me...  \n",
            "2     order took day snow day weekend happy sweater ...  \n",
            "3     wouldnt give star ordered coat week ago receiv...  \n",
            "4     parcel never arrived chasing refund substantia...  \n",
            "...                                                 ...  \n",
            "5717  given star could known evri hermes courier wou...  \n",
            "5718  wanted change delivery location item within ho...  \n",
            "5719  waiting since believe sent order wrong country...  \n",
            "5720  complain late delivery horrendous compnay revi...  \n",
            "5721  placed order th november alert order could tak...  \n",
            "\n",
            "[5722 rows x 7 columns]\n"
          ]
        }
      ]
    },
    {
      "cell_type": "markdown",
      "source": [
        "**Perform Self-Learning**"
      ],
      "metadata": {
        "id": "V_OSjtjaK6Jh"
      }
    },
    {
      "cell_type": "markdown",
      "source": [
        "Split data into labeled and unlabeled"
      ],
      "metadata": {
        "id": "2ofUkkHwMWh7"
      }
    },
    {
      "cell_type": "code",
      "source": [
        "# unlabeled_data = df[df['emotions_'] == 'NaN'][['cleaned_reviews']]\n",
        "\n",
        "unlabeled_data = df[pd.isnull(df['emotions_'])][['cleaned_reviews']]\n",
        "\n",
        "print(len(unlabeled_data))\n",
        "\n",
        "unlabeled_data['emotions_'] = -1\n",
        "\n",
        "unlabeled_data"
      ],
      "metadata": {
        "id": "uWxp6OE9MTdR",
        "colab": {
          "base_uri": "https://localhost:8080/",
          "height": 441
        },
        "outputId": "2a4e38a4-e04b-4c7a-813c-0d30d8716be8"
      },
      "execution_count": 48,
      "outputs": [
        {
          "output_type": "stream",
          "name": "stdout",
          "text": [
            "5095\n"
          ]
        },
        {
          "output_type": "execute_result",
          "data": {
            "text/plain": [
              "                                        cleaned_reviews  emotions_\n",
              "0        fast shipping cloth finally fit well satisfied         -1\n",
              "1     wanted say delighted friendly helpful staff me...         -1\n",
              "4     parcel never arrived chasing refund substantia...         -1\n",
              "5     avoid ordering online ordered day ago evri pac...         -1\n",
              "6     awful service returning item booked collection...         -1\n",
              "...                                                 ...        ...\n",
              "5717  given star could known evri hermes courier wou...         -1\n",
              "5718  wanted change delivery location item within ho...         -1\n",
              "5719  waiting since believe sent order wrong country...         -1\n",
              "5720  complain late delivery horrendous compnay revi...         -1\n",
              "5721  placed order th november alert order could tak...         -1\n",
              "\n",
              "[5095 rows x 2 columns]"
            ],
            "text/html": [
              "\n",
              "  <div id=\"df-c1af0b54-b0cc-4c87-bdd1-0994a393998a\" class=\"colab-df-container\">\n",
              "    <div>\n",
              "<style scoped>\n",
              "    .dataframe tbody tr th:only-of-type {\n",
              "        vertical-align: middle;\n",
              "    }\n",
              "\n",
              "    .dataframe tbody tr th {\n",
              "        vertical-align: top;\n",
              "    }\n",
              "\n",
              "    .dataframe thead th {\n",
              "        text-align: right;\n",
              "    }\n",
              "</style>\n",
              "<table border=\"1\" class=\"dataframe\">\n",
              "  <thead>\n",
              "    <tr style=\"text-align: right;\">\n",
              "      <th></th>\n",
              "      <th>cleaned_reviews</th>\n",
              "      <th>emotions_</th>\n",
              "    </tr>\n",
              "  </thead>\n",
              "  <tbody>\n",
              "    <tr>\n",
              "      <th>0</th>\n",
              "      <td>fast shipping cloth finally fit well satisfied</td>\n",
              "      <td>-1</td>\n",
              "    </tr>\n",
              "    <tr>\n",
              "      <th>1</th>\n",
              "      <td>wanted say delighted friendly helpful staff me...</td>\n",
              "      <td>-1</td>\n",
              "    </tr>\n",
              "    <tr>\n",
              "      <th>4</th>\n",
              "      <td>parcel never arrived chasing refund substantia...</td>\n",
              "      <td>-1</td>\n",
              "    </tr>\n",
              "    <tr>\n",
              "      <th>5</th>\n",
              "      <td>avoid ordering online ordered day ago evri pac...</td>\n",
              "      <td>-1</td>\n",
              "    </tr>\n",
              "    <tr>\n",
              "      <th>6</th>\n",
              "      <td>awful service returning item booked collection...</td>\n",
              "      <td>-1</td>\n",
              "    </tr>\n",
              "    <tr>\n",
              "      <th>...</th>\n",
              "      <td>...</td>\n",
              "      <td>...</td>\n",
              "    </tr>\n",
              "    <tr>\n",
              "      <th>5717</th>\n",
              "      <td>given star could known evri hermes courier wou...</td>\n",
              "      <td>-1</td>\n",
              "    </tr>\n",
              "    <tr>\n",
              "      <th>5718</th>\n",
              "      <td>wanted change delivery location item within ho...</td>\n",
              "      <td>-1</td>\n",
              "    </tr>\n",
              "    <tr>\n",
              "      <th>5719</th>\n",
              "      <td>waiting since believe sent order wrong country...</td>\n",
              "      <td>-1</td>\n",
              "    </tr>\n",
              "    <tr>\n",
              "      <th>5720</th>\n",
              "      <td>complain late delivery horrendous compnay revi...</td>\n",
              "      <td>-1</td>\n",
              "    </tr>\n",
              "    <tr>\n",
              "      <th>5721</th>\n",
              "      <td>placed order th november alert order could tak...</td>\n",
              "      <td>-1</td>\n",
              "    </tr>\n",
              "  </tbody>\n",
              "</table>\n",
              "<p>5095 rows × 2 columns</p>\n",
              "</div>\n",
              "    <div class=\"colab-df-buttons\">\n",
              "\n",
              "  <div class=\"colab-df-container\">\n",
              "    <button class=\"colab-df-convert\" onclick=\"convertToInteractive('df-c1af0b54-b0cc-4c87-bdd1-0994a393998a')\"\n",
              "            title=\"Convert this dataframe to an interactive table.\"\n",
              "            style=\"display:none;\">\n",
              "\n",
              "  <svg xmlns=\"http://www.w3.org/2000/svg\" height=\"24px\" viewBox=\"0 -960 960 960\">\n",
              "    <path d=\"M120-120v-720h720v720H120Zm60-500h600v-160H180v160Zm220 220h160v-160H400v160Zm0 220h160v-160H400v160ZM180-400h160v-160H180v160Zm440 0h160v-160H620v160ZM180-180h160v-160H180v160Zm440 0h160v-160H620v160Z\"/>\n",
              "  </svg>\n",
              "    </button>\n",
              "\n",
              "  <style>\n",
              "    .colab-df-container {\n",
              "      display:flex;\n",
              "      gap: 12px;\n",
              "    }\n",
              "\n",
              "    .colab-df-convert {\n",
              "      background-color: #E8F0FE;\n",
              "      border: none;\n",
              "      border-radius: 50%;\n",
              "      cursor: pointer;\n",
              "      display: none;\n",
              "      fill: #1967D2;\n",
              "      height: 32px;\n",
              "      padding: 0 0 0 0;\n",
              "      width: 32px;\n",
              "    }\n",
              "\n",
              "    .colab-df-convert:hover {\n",
              "      background-color: #E2EBFA;\n",
              "      box-shadow: 0px 1px 2px rgba(60, 64, 67, 0.3), 0px 1px 3px 1px rgba(60, 64, 67, 0.15);\n",
              "      fill: #174EA6;\n",
              "    }\n",
              "\n",
              "    .colab-df-buttons div {\n",
              "      margin-bottom: 4px;\n",
              "    }\n",
              "\n",
              "    [theme=dark] .colab-df-convert {\n",
              "      background-color: #3B4455;\n",
              "      fill: #D2E3FC;\n",
              "    }\n",
              "\n",
              "    [theme=dark] .colab-df-convert:hover {\n",
              "      background-color: #434B5C;\n",
              "      box-shadow: 0px 1px 3px 1px rgba(0, 0, 0, 0.15);\n",
              "      filter: drop-shadow(0px 1px 2px rgba(0, 0, 0, 0.3));\n",
              "      fill: #FFFFFF;\n",
              "    }\n",
              "  </style>\n",
              "\n",
              "    <script>\n",
              "      const buttonEl =\n",
              "        document.querySelector('#df-c1af0b54-b0cc-4c87-bdd1-0994a393998a button.colab-df-convert');\n",
              "      buttonEl.style.display =\n",
              "        google.colab.kernel.accessAllowed ? 'block' : 'none';\n",
              "\n",
              "      async function convertToInteractive(key) {\n",
              "        const element = document.querySelector('#df-c1af0b54-b0cc-4c87-bdd1-0994a393998a');\n",
              "        const dataTable =\n",
              "          await google.colab.kernel.invokeFunction('convertToInteractive',\n",
              "                                                    [key], {});\n",
              "        if (!dataTable) return;\n",
              "\n",
              "        const docLinkHtml = 'Like what you see? Visit the ' +\n",
              "          '<a target=\"_blank\" href=https://colab.research.google.com/notebooks/data_table.ipynb>data table notebook</a>'\n",
              "          + ' to learn more about interactive tables.';\n",
              "        element.innerHTML = '';\n",
              "        dataTable['output_type'] = 'display_data';\n",
              "        await google.colab.output.renderOutput(dataTable, element);\n",
              "        const docLink = document.createElement('div');\n",
              "        docLink.innerHTML = docLinkHtml;\n",
              "        element.appendChild(docLink);\n",
              "      }\n",
              "    </script>\n",
              "  </div>\n",
              "\n",
              "\n",
              "<div id=\"df-1018c9c4-97bb-4092-9751-90245cd81f3a\">\n",
              "  <button class=\"colab-df-quickchart\" onclick=\"quickchart('df-1018c9c4-97bb-4092-9751-90245cd81f3a')\"\n",
              "            title=\"Suggest charts\"\n",
              "            style=\"display:none;\">\n",
              "\n",
              "<svg xmlns=\"http://www.w3.org/2000/svg\" height=\"24px\"viewBox=\"0 0 24 24\"\n",
              "     width=\"24px\">\n",
              "    <g>\n",
              "        <path d=\"M19 3H5c-1.1 0-2 .9-2 2v14c0 1.1.9 2 2 2h14c1.1 0 2-.9 2-2V5c0-1.1-.9-2-2-2zM9 17H7v-7h2v7zm4 0h-2V7h2v10zm4 0h-2v-4h2v4z\"/>\n",
              "    </g>\n",
              "</svg>\n",
              "  </button>\n",
              "\n",
              "<style>\n",
              "  .colab-df-quickchart {\n",
              "      --bg-color: #E8F0FE;\n",
              "      --fill-color: #1967D2;\n",
              "      --hover-bg-color: #E2EBFA;\n",
              "      --hover-fill-color: #174EA6;\n",
              "      --disabled-fill-color: #AAA;\n",
              "      --disabled-bg-color: #DDD;\n",
              "  }\n",
              "\n",
              "  [theme=dark] .colab-df-quickchart {\n",
              "      --bg-color: #3B4455;\n",
              "      --fill-color: #D2E3FC;\n",
              "      --hover-bg-color: #434B5C;\n",
              "      --hover-fill-color: #FFFFFF;\n",
              "      --disabled-bg-color: #3B4455;\n",
              "      --disabled-fill-color: #666;\n",
              "  }\n",
              "\n",
              "  .colab-df-quickchart {\n",
              "    background-color: var(--bg-color);\n",
              "    border: none;\n",
              "    border-radius: 50%;\n",
              "    cursor: pointer;\n",
              "    display: none;\n",
              "    fill: var(--fill-color);\n",
              "    height: 32px;\n",
              "    padding: 0;\n",
              "    width: 32px;\n",
              "  }\n",
              "\n",
              "  .colab-df-quickchart:hover {\n",
              "    background-color: var(--hover-bg-color);\n",
              "    box-shadow: 0 1px 2px rgba(60, 64, 67, 0.3), 0 1px 3px 1px rgba(60, 64, 67, 0.15);\n",
              "    fill: var(--button-hover-fill-color);\n",
              "  }\n",
              "\n",
              "  .colab-df-quickchart-complete:disabled,\n",
              "  .colab-df-quickchart-complete:disabled:hover {\n",
              "    background-color: var(--disabled-bg-color);\n",
              "    fill: var(--disabled-fill-color);\n",
              "    box-shadow: none;\n",
              "  }\n",
              "\n",
              "  .colab-df-spinner {\n",
              "    border: 2px solid var(--fill-color);\n",
              "    border-color: transparent;\n",
              "    border-bottom-color: var(--fill-color);\n",
              "    animation:\n",
              "      spin 1s steps(1) infinite;\n",
              "  }\n",
              "\n",
              "  @keyframes spin {\n",
              "    0% {\n",
              "      border-color: transparent;\n",
              "      border-bottom-color: var(--fill-color);\n",
              "      border-left-color: var(--fill-color);\n",
              "    }\n",
              "    20% {\n",
              "      border-color: transparent;\n",
              "      border-left-color: var(--fill-color);\n",
              "      border-top-color: var(--fill-color);\n",
              "    }\n",
              "    30% {\n",
              "      border-color: transparent;\n",
              "      border-left-color: var(--fill-color);\n",
              "      border-top-color: var(--fill-color);\n",
              "      border-right-color: var(--fill-color);\n",
              "    }\n",
              "    40% {\n",
              "      border-color: transparent;\n",
              "      border-right-color: var(--fill-color);\n",
              "      border-top-color: var(--fill-color);\n",
              "    }\n",
              "    60% {\n",
              "      border-color: transparent;\n",
              "      border-right-color: var(--fill-color);\n",
              "    }\n",
              "    80% {\n",
              "      border-color: transparent;\n",
              "      border-right-color: var(--fill-color);\n",
              "      border-bottom-color: var(--fill-color);\n",
              "    }\n",
              "    90% {\n",
              "      border-color: transparent;\n",
              "      border-bottom-color: var(--fill-color);\n",
              "    }\n",
              "  }\n",
              "</style>\n",
              "\n",
              "  <script>\n",
              "    async function quickchart(key) {\n",
              "      const quickchartButtonEl =\n",
              "        document.querySelector('#' + key + ' button');\n",
              "      quickchartButtonEl.disabled = true;  // To prevent multiple clicks.\n",
              "      quickchartButtonEl.classList.add('colab-df-spinner');\n",
              "      try {\n",
              "        const charts = await google.colab.kernel.invokeFunction(\n",
              "            'suggestCharts', [key], {});\n",
              "      } catch (error) {\n",
              "        console.error('Error during call to suggestCharts:', error);\n",
              "      }\n",
              "      quickchartButtonEl.classList.remove('colab-df-spinner');\n",
              "      quickchartButtonEl.classList.add('colab-df-quickchart-complete');\n",
              "    }\n",
              "    (() => {\n",
              "      let quickchartButtonEl =\n",
              "        document.querySelector('#df-1018c9c4-97bb-4092-9751-90245cd81f3a button');\n",
              "      quickchartButtonEl.style.display =\n",
              "        google.colab.kernel.accessAllowed ? 'block' : 'none';\n",
              "    })();\n",
              "  </script>\n",
              "</div>\n",
              "    </div>\n",
              "  </div>\n"
            ],
            "application/vnd.google.colaboratory.intrinsic+json": {
              "type": "dataframe",
              "variable_name": "unlabeled_data",
              "summary": "{\n  \"name\": \"unlabeled_data\",\n  \"rows\": 5095,\n  \"fields\": [\n    {\n      \"column\": \"cleaned_reviews\",\n      \"properties\": {\n        \"dtype\": \"string\",\n        \"num_unique_values\": 5004,\n        \"samples\": [\n          \"Normal order within days do in, but this will take back and shein even faster that it is busy but think that several companies are busy even Zalando within days like it may be a shame because always found it nice ordering with you\",\n          \"ordered online last year ive paid card klarna never issue believe considering pandemic staff may short pandemic satisfactory ive waited day item informed time delivered time bear mind sometimes demanding time company may need day ship order unreasonable youre prepared wait people warehouse etc applaud people working role frightening time le wouldnt able get little retail therapy retail environment currently serious stress people need patience work problem work think bad review unfairive always happy purchase via want security use klarna way report received item process return app klarna monitor make sure recieve refund kind company working hard staff importantly safety come first mean taking longer deliver item staff shortage would want loved one working unsafe environment would want forced work werent feeling safe staff shortage understanding store leamington spa also always pleasure staff friendly cant wait til open shop website perfect happy customer proud vip member\",\n          \"Very beautiful photographs then when head arrived house I was very disappointed by the quality of the products Pi purchased short mixed lino choosing cutting with their system finds my size that suggested one instead one like my usual wearing one probably one would be fitting best I don't think I ever put my purchase orderarrived in the scheduled time\"\n        ],\n        \"semantic_type\": \"\",\n        \"description\": \"\"\n      }\n    },\n    {\n      \"column\": \"emotions_\",\n      \"properties\": {\n        \"dtype\": \"number\",\n        \"std\": 0,\n        \"min\": -1,\n        \"max\": -1,\n        \"num_unique_values\": 1,\n        \"samples\": [\n          -1\n        ],\n        \"semantic_type\": \"\",\n        \"description\": \"\"\n      }\n    }\n  ]\n}"
            }
          },
          "metadata": {},
          "execution_count": 48
        }
      ]
    },
    {
      "cell_type": "markdown",
      "source": [
        "**Extract X and y from labeled_data**"
      ],
      "metadata": {
        "id": "xv1ZSTi6MTkj"
      }
    },
    {
      "cell_type": "code",
      "source": [
        "# Define labeled data as data where \"Sentiment\" is not missing\n",
        "labeled_data = df[df['emotions_'].notnull() & (df['emotions_'] != 'NaN')]\n",
        "\n",
        "print(len(labeled_data))\n",
        "\n",
        "# Extract labels from labeled_data\n",
        "y_labeled = labeled_data['emotions_']\n",
        "y_unlabeled = unlabeled_data['emotions_']\n",
        "X_labeled = labeled_data['cleaned_reviews']\n",
        "X_unlabeled = unlabeled_data['cleaned_reviews']\n",
        "\n",
        "print(\"y_labeled \",y_labeled )\n",
        "print(\"y_unlabeled\",y_unlabeled)\n",
        "print(\"X_unlabeled\",X_unlabeled)\n",
        "print(\"X_labeled\",X_labeled)\n",
        "print(df)"
      ],
      "metadata": {
        "id": "O9yJqZarMTrm",
        "collapsed": true,
        "colab": {
          "base_uri": "https://localhost:8080/"
        },
        "outputId": "592f5807-96bf-4823-e4ea-296cdf03dcc6"
      },
      "execution_count": 118,
      "outputs": [
        {
          "output_type": "stream",
          "name": "stdout",
          "text": [
            "627\n",
            "y_labeled  2            joy\n",
            "3           fear\n",
            "10      surprise\n",
            "18         anger\n",
            "25       neutral\n",
            "          ...   \n",
            "5692     sadness\n",
            "5695        fear\n",
            "5701       anger\n",
            "5711         joy\n",
            "5715       anger\n",
            "Name: emotions_, Length: 627, dtype: object\n",
            "y_unlabeled 0      -1\n",
            "1      -1\n",
            "4      -1\n",
            "5      -1\n",
            "6      -1\n",
            "       ..\n",
            "5717   -1\n",
            "5718   -1\n",
            "5719   -1\n",
            "5720   -1\n",
            "5721   -1\n",
            "Name: emotions_, Length: 5095, dtype: int64\n",
            "X_unlabeled 0          fast shipping cloth finally fit well satisfied\n",
            "1       wanted say delighted friendly helpful staff me...\n",
            "4       parcel never arrived chasing refund substantia...\n",
            "5       avoid ordering online ordered day ago evri pac...\n",
            "6       awful service returning item booked collection...\n",
            "                              ...                        \n",
            "5717    given star could known evri hermes courier wou...\n",
            "5718    wanted change delivery location item within ho...\n",
            "5719    waiting since believe sent order wrong country...\n",
            "5720    complain late delivery horrendous compnay revi...\n",
            "5721    placed order th november alert order could tak...\n",
            "Name: cleaned_reviews, Length: 5095, dtype: object\n",
            "X_labeled 2       order took day snow day weekend happy sweater ...\n",
            "3       wouldnt give star ordered coat week ago receiv...\n",
            "10      went glasgow saturday bought kid stuff nd floo...\n",
            "18      trying order product online cost option click ...\n",
            "25                                               use euri\n",
            "                              ...                        \n",
            "5692     dont order online store tooooo much headache prb\n",
            "5695    use evri formally hermes courier lost confiden...\n",
            "5701    staff westfield stratford rude went voucher vo...\n",
            "5711    packet came week super satisfiedeverything fit...\n",
            "5715    received item wrong colour damaged contacted c...\n",
            "Name: cleaned_reviews, Length: 627, dtype: object\n",
            "         ID_ brand_name_ country_  star_rating_ emotions_  \\\n",
            "0        ID1          Z_       US             5       NaN   \n",
            "1       ID10          Z_       GB             5       NaN   \n",
            "2      ID100          H_      FRI             5       joy   \n",
            "3     ID1000          H_       GB             1      fear   \n",
            "4     ID1001          H_       GB             1       NaN   \n",
            "...      ...         ...      ...           ...       ...   \n",
            "5717   ID995          H_       GB             1       NaN   \n",
            "5718   ID996          H_       GB             1       NaN   \n",
            "5719   ID997          H_       CY             1       NaN   \n",
            "5720   ID998          H_       GB             1       NaN   \n",
            "5721   ID999          H_       NL             1       NaN   \n",
            "\n",
            "                                          text_reviews_  \\\n",
            "0     Fast shipping! All cloths was finally fits wel...   \n",
            "1     Just wanted to say how delighted I was with th...   \n",
            "2     My order took 6 days with a snow day and a wee...   \n",
            "3     Wouldnt give them no stars. I ordered a coat 4...   \n",
            "4     Parcel never arrived. Chasing for a refund for...   \n",
            "...                                                 ...   \n",
            "5717  IÃÂ¯ÃÂ¾ÃÆÃÂ£ÃÆÃÂ£ÃÂ¯ÃÂ¾ÃÆÃÂ¯ÃÂ½Ã...   \n",
            "5718  I wanted to change the delivery location of my...   \n",
            "5719  Waiting since 24/14/2022. I believe the sent m...   \n",
            "5720  Who do you complain to about late deliveries f...   \n",
            "5721  Placed an order on the 24th November. H_ alert...   \n",
            "\n",
            "                                        cleaned_reviews  \n",
            "0        fast shipping cloth finally fit well satisfied  \n",
            "1     wanted say delighted friendly helpful staff me...  \n",
            "2     order took day snow day weekend happy sweater ...  \n",
            "3     wouldnt give star ordered coat week ago receiv...  \n",
            "4     parcel never arrived chasing refund substantia...  \n",
            "...                                                 ...  \n",
            "5717  given star could known evri hermes courier wou...  \n",
            "5718  wanted change delivery location item within ho...  \n",
            "5719  waiting since believe sent order wrong country...  \n",
            "5720  complain late delivery horrendous compnay revi...  \n",
            "5721  placed order th november alert order could tak...  \n",
            "\n",
            "[5722 rows x 7 columns]\n"
          ]
        }
      ]
    },
    {
      "cell_type": "markdown",
      "source": [
        "**Pipelines**"
      ],
      "metadata": {
        "id": "GVR3p1SY0tHU"
      }
    },
    {
      "cell_type": "code",
      "source": [
        "from sklearn.svm import SVC  # Import Support Vector Classification\n",
        "\n",
        "# Parameters\n",
        "svm_params = dict(kernel='linear', probability=True)  # Adjust parameters as needed\n",
        "vectorizer_params = dict(ngram_range=(1, 2), min_df=1, max_df=0.8)\n",
        "\n",
        "# Supervised Pipeline with SVM\n",
        "pipeline = Pipeline(\n",
        "    [\n",
        "        (\"vect\", CountVectorizer(**vectorizer_params)),\n",
        "        (\"tfidf\", TfidfTransformer()),\n",
        "        (\"clf\", SVC(**svm_params)),\n",
        "    ]\n",
        ")\n",
        "# SelfTraining Pipeline\n",
        "st_pipeline = Pipeline(\n",
        "    [\n",
        "        (\"vect\", CountVectorizer(**vectorizer_params)),\n",
        "        (\"tfidf\", TfidfTransformer()),\n",
        "        (\"clf\", SelfTrainingClassifier(SVC(**svm_params), verbose=True)),\n",
        "    ]\n",
        ")"
      ],
      "metadata": {
        "id": "3gNSgU9S0tN1"
      },
      "execution_count": 119,
      "outputs": []
    },
    {
      "cell_type": "code",
      "source": [
        "# Parameters\n",
        "sdg_params = dict(alpha=1e-5, penalty=\"l2\", loss=\"log_loss\")\n",
        "vectorizer_params = dict(ngram_range=(1, 2), min_df=1, max_df=0.8)\n",
        "\n",
        "# Supervised Pipeline\n",
        "pipeline = Pipeline(\n",
        "    [\n",
        "        (\"vect\", CountVectorizer(**vectorizer_params)),\n",
        "        (\"tfidf\", TfidfTransformer()),\n",
        "        (\"clf\", SGDClassifier(**sdg_params)),\n",
        "    ]\n",
        ")\n",
        "# SelfTraining Pipeline\n",
        "st_pipeline = Pipeline(\n",
        "    [\n",
        "        (\"vect\", CountVectorizer(**vectorizer_params)),\n",
        "        (\"tfidf\", TfidfTransformer()),\n",
        "        (\"clf\", SelfTrainingClassifier(SGDClassifier(**sdg_params), verbose=True)),\n",
        "    ]\n",
        ")"
      ],
      "metadata": {
        "id": "xtrtLEDxGpFE"
      },
      "execution_count": null,
      "outputs": []
    },
    {
      "cell_type": "markdown",
      "source": [
        "**Define a function for a classification report**"
      ],
      "metadata": {
        "id": "aXhq1Peu0S00"
      }
    },
    {
      "cell_type": "code",
      "source": [
        "def eval_and_print_metrics(clf, X_train, y_train, X_test, y_test):\n",
        "    import numpy as np\n",
        "    np.random.seed(42)  # Set random seed\n",
        "    print(\"Number of training samples:\", len(X_train))\n",
        "    print(\"Unlabeled samples in training set:\", sum(1 for x in y_train if x == -1)) #if x == NULL\n",
        "    clf.fit(X_train, y_train)\n",
        "    y_pred = clf.predict(X_test)\n",
        "    #print(\"y Train\", y_train)\n",
        "    print(\"y Predict\",y_pred)\n",
        "    print(\"y Test\",y_test)\n",
        "\n",
        "    print(\n",
        "        \"Micro-averaged F1 score on test set: %0.3f\"\n",
        "        % f1_score(y_test, y_pred, average=\"micro\")\n",
        "    )\n",
        "    print(\"\\nConfusion Matrix:\\n\", confusion_matrix(y_test,y_pred))\n",
        "    print(\"\\nClassification Report:\\n\", classification_report(y_test, y_pred,zero_division=1))\n",
        "    print(\"\\n\\n\")\n",
        "\n",
        "    return y_pred"
      ],
      "metadata": {
        "id": "vEtYi3z20S7l"
      },
      "execution_count": 127,
      "outputs": []
    },
    {
      "cell_type": "markdown",
      "source": [
        "**Split the data**"
      ],
      "metadata": {
        "id": "-EFccLfJ0Jpu"
      }
    },
    {
      "cell_type": "code",
      "source": [
        "X_train, X_test, y_train, y_test = train_test_split(X_labeled, y_labeled, test_size=0.2, stratify=y_labeled, random_state=42)\n",
        "\n",
        "print(len(X_train), len(y_train), len(X_test), len(y_test))"
      ],
      "metadata": {
        "id": "Xe0jIcaq0Jw7",
        "colab": {
          "base_uri": "https://localhost:8080/"
        },
        "outputId": "dedd3e86-df19-4fdf-929a-8a70b8a93f12"
      },
      "execution_count": 128,
      "outputs": [
        {
          "output_type": "stream",
          "name": "stdout",
          "text": [
            "501 501 126 126\n"
          ]
        }
      ]
    },
    {
      "cell_type": "markdown",
      "source": [
        "**Supervised SGDClassifier on the labeled data**"
      ],
      "metadata": {
        "id": "0xoWkJmgyqnz"
      }
    },
    {
      "cell_type": "code",
      "source": [
        "print(\"Supervised SGDClassifier on the labeled data:\")\n",
        "y_pred = eval_and_print_metrics(pipeline, X_train, y_train, X_test, y_test)\n",
        "len(y_pred)"
      ],
      "metadata": {
        "colab": {
          "base_uri": "https://localhost:8080/"
        },
        "id": "-49aaJ-lyquw",
        "outputId": "905dda8c-d3ce-4ab7-cddf-62a110ecedc8",
        "collapsed": true
      },
      "execution_count": 129,
      "outputs": [
        {
          "output_type": "stream",
          "name": "stdout",
          "text": [
            "Supervised SGDClassifier on the labeled data:\n",
            "Number of training samples: 501\n",
            "Unlabeled samples in training set: 0\n",
            "y Predict ['surprise' 'joy' 'surprise' 'surprise' 'neutral' 'joy' 'surprise'\n",
            " 'surprise' 'disgust' 'surprise' 'sadness' 'surprise' 'joy' 'joy' 'joy'\n",
            " 'disgust' 'anger' 'sadness' 'neutral' 'sadness' 'sadness' 'surprise'\n",
            " 'joy' 'neutral' 'sadness' 'disgust' 'sadness' 'disgust' 'surprise'\n",
            " 'anger' 'disgust' 'neutral' 'disgust' 'neutral' 'sadness' 'sadness'\n",
            " 'sadness' 'surprise' 'disgust' 'surprise' 'sadness' 'sadness' 'disgust'\n",
            " 'fear' 'sadness' 'surprise' 'disgust' 'neutral' 'sadness' 'surprise'\n",
            " 'sadness' 'surprise' 'fear' 'sadness' 'fear' 'neutral' 'disgust'\n",
            " 'neutral' 'surprise' 'joy' 'fear' 'surprise' 'neutral' 'joy' 'sadness'\n",
            " 'surprise' 'joy' 'neutral' 'disgust' 'surprise' 'surprise' 'surprise'\n",
            " 'surprise' 'anger' 'neutral' 'fear' 'surprise' 'disgust' 'surprise'\n",
            " 'sadness' 'surprise' 'fear' 'disgust' 'fear' 'neutral' 'sadness' 'joy'\n",
            " 'neutral' 'joy' 'joy' 'disgust' 'surprise' 'joy' 'sadness' 'joy'\n",
            " 'sadness' 'surprise' 'sadness' 'joy' 'fear' 'sadness' 'neutral'\n",
            " 'surprise' 'joy' 'neutral' 'disgust' 'disgust' 'sadness' 'disgust'\n",
            " 'surprise' 'neutral' 'fear' 'surprise' 'anger' 'fear' 'neutral'\n",
            " 'surprise' 'surprise' 'neutral' 'joy' 'surprise' 'surprise' 'surprise'\n",
            " 'joy' 'neutral' 'disgust']\n",
            "y Test 304     surprise\n",
            "57           joy\n",
            "912     surprise\n",
            "3367    surprise\n",
            "2820     neutral\n",
            "          ...   \n",
            "703        anger\n",
            "2687     neutral\n",
            "3339    surprise\n",
            "1674     sadness\n",
            "4890    surprise\n",
            "Name: emotions_, Length: 126, dtype: object\n",
            "Micro-averaged F1 score on test set: 0.500\n",
            "\n",
            "Confusion Matrix:\n",
            " [[ 3  1  0  1  2  2  2]\n",
            " [ 1  8  1  1  1  2  2]\n",
            " [ 0  2  6  1  0  4  3]\n",
            " [ 0  0  1 12  0  3  4]\n",
            " [ 0  2  0  0 11  1  6]\n",
            " [ 0  2  1  2  5  8  2]\n",
            " [ 0  3  1  1  0  3 15]]\n",
            "\n",
            "Classification Report:\n",
            "               precision    recall  f1-score   support\n",
            "\n",
            "       anger       0.75      0.27      0.40        11\n",
            "     disgust       0.44      0.50      0.47        16\n",
            "        fear       0.60      0.38      0.46        16\n",
            "         joy       0.67      0.60      0.63        20\n",
            "     neutral       0.58      0.55      0.56        20\n",
            "     sadness       0.35      0.40      0.37        20\n",
            "    surprise       0.44      0.65      0.53        23\n",
            "\n",
            "    accuracy                           0.50       126\n",
            "   macro avg       0.55      0.48      0.49       126\n",
            "weighted avg       0.53      0.50      0.50       126\n",
            "\n",
            "\n",
            "\n",
            "\n"
          ]
        },
        {
          "output_type": "execute_result",
          "data": {
            "text/plain": [
              "126"
            ]
          },
          "metadata": {},
          "execution_count": 129
        }
      ]
    },
    {
      "cell_type": "markdown",
      "source": [
        "**Self Training Classifier on the labeled data**"
      ],
      "metadata": {
        "id": "ZOhbZGWzz6wG"
      }
    },
    {
      "cell_type": "code",
      "source": [
        "print(\"Self Training Classifier on the labeled data:\")\n",
        "eval_and_print_metrics(st_pipeline, X_train, y_train, X_test, y_test)"
      ],
      "metadata": {
        "colab": {
          "base_uri": "https://localhost:8080/"
        },
        "id": "0KlRuPUTz62U",
        "outputId": "015ee26a-bad3-4ac2-f110-2816a16f3945"
      },
      "execution_count": 130,
      "outputs": [
        {
          "output_type": "stream",
          "name": "stdout",
          "text": [
            "Self Training Classifier on the labeled data:\n",
            "Number of training samples: 501\n",
            "Unlabeled samples in training set: 0\n"
          ]
        },
        {
          "output_type": "stream",
          "name": "stderr",
          "text": [
            "/usr/local/lib/python3.10/dist-packages/sklearn/semi_supervised/_self_training.py:212: UserWarning: y contains no unlabeled samples\n",
            "  warnings.warn(\"y contains no unlabeled samples\", UserWarning)\n"
          ]
        },
        {
          "output_type": "stream",
          "name": "stdout",
          "text": [
            "y Predict ['surprise' 'joy' 'surprise' 'surprise' 'neutral' 'joy' 'surprise'\n",
            " 'surprise' 'disgust' 'surprise' 'sadness' 'surprise' 'joy' 'joy' 'joy'\n",
            " 'disgust' 'anger' 'sadness' 'neutral' 'sadness' 'sadness' 'surprise'\n",
            " 'joy' 'neutral' 'sadness' 'disgust' 'sadness' 'disgust' 'surprise'\n",
            " 'anger' 'disgust' 'neutral' 'disgust' 'neutral' 'sadness' 'sadness'\n",
            " 'sadness' 'surprise' 'disgust' 'surprise' 'sadness' 'sadness' 'disgust'\n",
            " 'fear' 'sadness' 'surprise' 'disgust' 'neutral' 'sadness' 'surprise'\n",
            " 'sadness' 'surprise' 'fear' 'sadness' 'fear' 'neutral' 'disgust'\n",
            " 'neutral' 'surprise' 'joy' 'fear' 'surprise' 'neutral' 'joy' 'sadness'\n",
            " 'surprise' 'joy' 'neutral' 'disgust' 'surprise' 'surprise' 'surprise'\n",
            " 'surprise' 'anger' 'neutral' 'fear' 'surprise' 'disgust' 'surprise'\n",
            " 'sadness' 'surprise' 'fear' 'disgust' 'fear' 'neutral' 'sadness' 'joy'\n",
            " 'neutral' 'joy' 'joy' 'disgust' 'surprise' 'joy' 'sadness' 'joy'\n",
            " 'sadness' 'surprise' 'sadness' 'joy' 'fear' 'sadness' 'neutral'\n",
            " 'surprise' 'joy' 'neutral' 'disgust' 'disgust' 'sadness' 'disgust'\n",
            " 'surprise' 'neutral' 'fear' 'surprise' 'anger' 'fear' 'neutral'\n",
            " 'surprise' 'surprise' 'neutral' 'joy' 'surprise' 'surprise' 'surprise'\n",
            " 'joy' 'neutral' 'disgust']\n",
            "y Test 304     surprise\n",
            "57           joy\n",
            "912     surprise\n",
            "3367    surprise\n",
            "2820     neutral\n",
            "          ...   \n",
            "703        anger\n",
            "2687     neutral\n",
            "3339    surprise\n",
            "1674     sadness\n",
            "4890    surprise\n",
            "Name: emotions_, Length: 126, dtype: object\n",
            "Micro-averaged F1 score on test set: 0.500\n",
            "\n",
            "Confusion Matrix:\n",
            " [[ 3  1  0  1  2  2  2]\n",
            " [ 1  8  1  1  1  2  2]\n",
            " [ 0  2  6  1  0  4  3]\n",
            " [ 0  0  1 12  0  3  4]\n",
            " [ 0  2  0  0 11  1  6]\n",
            " [ 0  2  1  2  5  8  2]\n",
            " [ 0  3  1  1  0  3 15]]\n",
            "\n",
            "Classification Report:\n",
            "               precision    recall  f1-score   support\n",
            "\n",
            "       anger       0.75      0.27      0.40        11\n",
            "     disgust       0.44      0.50      0.47        16\n",
            "        fear       0.60      0.38      0.46        16\n",
            "         joy       0.67      0.60      0.63        20\n",
            "     neutral       0.58      0.55      0.56        20\n",
            "     sadness       0.35      0.40      0.37        20\n",
            "    surprise       0.44      0.65      0.53        23\n",
            "\n",
            "    accuracy                           0.50       126\n",
            "   macro avg       0.55      0.48      0.49       126\n",
            "weighted avg       0.53      0.50      0.50       126\n",
            "\n",
            "\n",
            "\n",
            "\n"
          ]
        },
        {
          "output_type": "execute_result",
          "data": {
            "text/plain": [
              "array(['surprise', 'joy', 'surprise', 'surprise', 'neutral', 'joy',\n",
              "       'surprise', 'surprise', 'disgust', 'surprise', 'sadness',\n",
              "       'surprise', 'joy', 'joy', 'joy', 'disgust', 'anger', 'sadness',\n",
              "       'neutral', 'sadness', 'sadness', 'surprise', 'joy', 'neutral',\n",
              "       'sadness', 'disgust', 'sadness', 'disgust', 'surprise', 'anger',\n",
              "       'disgust', 'neutral', 'disgust', 'neutral', 'sadness', 'sadness',\n",
              "       'sadness', 'surprise', 'disgust', 'surprise', 'sadness', 'sadness',\n",
              "       'disgust', 'fear', 'sadness', 'surprise', 'disgust', 'neutral',\n",
              "       'sadness', 'surprise', 'sadness', 'surprise', 'fear', 'sadness',\n",
              "       'fear', 'neutral', 'disgust', 'neutral', 'surprise', 'joy', 'fear',\n",
              "       'surprise', 'neutral', 'joy', 'sadness', 'surprise', 'joy',\n",
              "       'neutral', 'disgust', 'surprise', 'surprise', 'surprise',\n",
              "       'surprise', 'anger', 'neutral', 'fear', 'surprise', 'disgust',\n",
              "       'surprise', 'sadness', 'surprise', 'fear', 'disgust', 'fear',\n",
              "       'neutral', 'sadness', 'joy', 'neutral', 'joy', 'joy', 'disgust',\n",
              "       'surprise', 'joy', 'sadness', 'joy', 'sadness', 'surprise',\n",
              "       'sadness', 'joy', 'fear', 'sadness', 'neutral', 'surprise', 'joy',\n",
              "       'neutral', 'disgust', 'disgust', 'sadness', 'disgust', 'surprise',\n",
              "       'neutral', 'fear', 'surprise', 'anger', 'fear', 'neutral',\n",
              "       'surprise', 'surprise', 'neutral', 'joy', 'surprise', 'surprise',\n",
              "       'surprise', 'joy', 'neutral', 'disgust'], dtype=object)"
            ]
          },
          "metadata": {},
          "execution_count": 130
        }
      ]
    },
    {
      "cell_type": "markdown",
      "source": [
        "**Self Training Classifier on the labeled and unlabeled data**"
      ],
      "metadata": {
        "id": "bAacD-vPyq8U"
      }
    },
    {
      "cell_type": "markdown",
      "source": [
        "**Manage Labeled and Unlabeled Data**"
      ],
      "metadata": {
        "id": "-k79s34Oy8Gj"
      }
    },
    {
      "cell_type": "code",
      "source": [
        "test_indices = X_test.index\n",
        "#print(\"TEST INDICES\",test_indices)\n",
        "\n",
        "# Exclude test data from X_labeled and y_labeled based on the identified indices\n",
        "X_labeled_filtered = X_labeled.drop(index=test_indices, errors='ignore')\n",
        "y_labeled_filtered = y_labeled.drop(index=test_indices, errors='ignore')\n",
        "\n",
        "# Concatenate the filtered labeled data with the unlabeled data\n",
        "X=X_combined = pd.concat([X_labeled_filtered, X_unlabeled])\n",
        "y=y_combined = pd.concat([y_labeled_filtered, y_unlabeled])\n"
      ],
      "metadata": {
        "id": "s8Mo7t2vy8O3"
      },
      "execution_count": 131,
      "outputs": []
    },
    {
      "cell_type": "markdown",
      "source": [
        "**Mapping Labels**"
      ],
      "metadata": {
        "id": "FNiE_v17y8X-"
      }
    },
    {
      "cell_type": "code",
      "source": [
        "# Define the mapping for labels\n",
        "# label_mapping = {'Positive': 1, 'Negative': 0, -1:-1 }\n",
        "label_mapping = {\n",
        "    'anger': 1,\n",
        "    'joy': 2,\n",
        "    'sadness': 3,\n",
        "    'fear': 4,\n",
        "    'disgust': 5,\n",
        "    'surprise': 6,\n",
        "    'neutral': 7,\n",
        "    -1:-1\n",
        "}\n",
        "# Apply the mapping to labels\n",
        "y  = [label_mapping[label] for label in y]\n",
        "#print(y)\n",
        "y_test  = [label_mapping[label] for label in y_test]\n",
        "#print(y_test)"
      ],
      "metadata": {
        "id": "37vfBIrVy8gD"
      },
      "execution_count": 132,
      "outputs": []
    },
    {
      "cell_type": "code",
      "source": [
        "print(\"Self Training Classifier on the labeled and unlabeled data:\")\n",
        "y_pred = eval_and_print_metrics(st_pipeline, X, y, X_test, y_test)"
      ],
      "metadata": {
        "colab": {
          "base_uri": "https://localhost:8080/"
        },
        "id": "yJaJenyyyrEF",
        "outputId": "910c0aaa-3cb8-4f82-a080-76dbf861d712"
      },
      "execution_count": 133,
      "outputs": [
        {
          "output_type": "stream",
          "name": "stdout",
          "text": [
            "Self Training Classifier on the labeled and unlabeled data:\n",
            "Number of training samples: 5596\n",
            "Unlabeled samples in training set: 5095\n",
            "End of iteration 1, added 168 new labels.\n",
            "End of iteration 2, added 404 new labels.\n",
            "End of iteration 3, added 1090 new labels.\n",
            "End of iteration 4, added 973 new labels.\n",
            "End of iteration 5, added 406 new labels.\n",
            "End of iteration 6, added 183 new labels.\n",
            "End of iteration 7, added 126 new labels.\n",
            "End of iteration 8, added 69 new labels.\n",
            "End of iteration 9, added 57 new labels.\n",
            "End of iteration 10, added 51 new labels.\n",
            "y Predict [4 2 7 7 7 2 2 7 5 6 7 7 2 2 2 4 1 7 7 4 4 7 2 7 4 4 4 5 7 1 1 7 1 7 7 2 7\n",
            " 6 4 7 4 4 7 4 4 7 7 7 5 7 4 7 4 2 4 7 5 7 4 2 4 4 7 7 4 6 2 7 5 4 4 4 7 1\n",
            " 7 7 7 7 7 4 4 7 5 7 7 7 2 7 2 7 5 4 2 3 2 7 2 7 2 4 3 7 4 2 7 5 5 4 5 7 7\n",
            " 4 7 1 4 7 7 2 7 7 6 7 6 2 2 5]\n",
            "y Test [6, 2, 6, 6, 7, 3, 6, 7, 5, 6, 1, 1, 2, 2, 2, 6, 5, 1, 7, 7, 6, 7, 2, 3, 2, 5, 4, 5, 6, 1, 5, 7, 3, 7, 4, 2, 5, 6, 4, 5, 4, 3, 7, 6, 3, 7, 7, 7, 5, 6, 3, 2, 3, 2, 4, 7, 5, 7, 6, 2, 4, 7, 3, 1, 3, 6, 5, 3, 6, 2, 4, 5, 4, 1, 1, 4, 7, 5, 3, 4, 6, 5, 3, 2, 7, 6, 2, 7, 2, 3, 5, 6, 2, 3, 2, 6, 2, 3, 2, 4, 3, 5, 3, 2, 1, 5, 1, 3, 4, 4, 7, 4, 2, 1, 4, 3, 6, 6, 7, 4, 6, 1, 7, 6, 3, 6]\n",
            "Micro-averaged F1 score on test set: 0.452\n",
            "\n",
            "Confusion Matrix:\n",
            " [[ 3  0  0  0  1  0  7]\n",
            " [ 0 15  0  2  0  0  3]\n",
            " [ 1  2  2  7  1  0  7]\n",
            " [ 0  0  0 10  1  0  5]\n",
            " [ 2  1  0  2  6  0  5]\n",
            " [ 0  3  0  7  2  4  7]\n",
            " [ 0  0  0  2  0  1 17]]\n",
            "\n",
            "Classification Report:\n",
            "               precision    recall  f1-score   support\n",
            "\n",
            "           1       0.50      0.27      0.35        11\n",
            "           2       0.71      0.75      0.73        20\n",
            "           3       1.00      0.10      0.18        20\n",
            "           4       0.33      0.62      0.43        16\n",
            "           5       0.55      0.38      0.44        16\n",
            "           6       0.80      0.17      0.29        23\n",
            "           7       0.33      0.85      0.48        20\n",
            "\n",
            "    accuracy                           0.45       126\n",
            "   macro avg       0.60      0.45      0.42       126\n",
            "weighted avg       0.63      0.45      0.42       126\n",
            "\n",
            "\n",
            "\n",
            "\n"
          ]
        }
      ]
    }
  ]
}