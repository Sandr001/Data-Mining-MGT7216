{
  "nbformat": 4,
  "nbformat_minor": 0,
  "metadata": {
    "colab": {
      "provenance": [],
      "mount_file_id": "1a9gteHKQmi8et3-AS9wlVC9CVmlm8vTq",
      "authorship_tag": "ABX9TyN7OaWsq+LwmhRk9zI5Rgcu",
      "include_colab_link": true
    },
    "kernelspec": {
      "name": "python3",
      "display_name": "Python 3"
    },
    "language_info": {
      "name": "python"
    }
  },
  "cells": [
    {
      "cell_type": "markdown",
      "metadata": {
        "id": "view-in-github",
        "colab_type": "text"
      },
      "source": [
        "<a href=\"https://colab.research.google.com/github/Sandr001/Data-Mining-MGT7216/blob/main/Sales-Data-Mining.ipynb\" target=\"_parent\"><img src=\"https://colab.research.google.com/assets/colab-badge.svg\" alt=\"Open In Colab\"/></a>"
      ]
    },
    {
      "cell_type": "code",
      "execution_count": 1,
      "metadata": {
        "id": "9bRoLO2v86U9",
        "colab": {
          "base_uri": "https://localhost:8080/"
        },
        "outputId": "f55b4792-e14d-4184-cd76-40b16c827e7d"
      },
      "outputs": [
        {
          "output_type": "stream",
          "name": "stdout",
          "text": [
            "MGT7216 Assignment-1 Sales Data\n"
          ]
        }
      ],
      "source": [
        "# MGT7216 Assignment-1 Sales Data\n",
        "print(\"MGT7216 Assignment-1 Sales Data\")"
      ]
    }
  ]
}