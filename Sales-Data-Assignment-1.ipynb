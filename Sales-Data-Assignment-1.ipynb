{
  "nbformat": 4,
  "nbformat_minor": 0,
  "metadata": {
    "colab": {
      "provenance": [],
      "mount_file_id": "1a9gteHKQmi8et3-AS9wlVC9CVmlm8vTq",
      "authorship_tag": "ABX9TyPtsT2b9j8T9pr1JnyQDB3/",
      "include_colab_link": true
    },
    "kernelspec": {
      "name": "python3",
      "display_name": "Python 3"
    },
    "language_info": {
      "name": "python"
    }
  },
  "cells": [
    {
      "cell_type": "markdown",
      "metadata": {
        "id": "view-in-github",
        "colab_type": "text"
      },
      "source": [
        "<a href=\"https://colab.research.google.com/github/Sandr001/Data-Mining-MGT7216/blob/main/Sales-Data-Assignment-1.ipynb\" target=\"_parent\"><img src=\"https://colab.research.google.com/assets/colab-badge.svg\" alt=\"Open In Colab\"/></a>"
      ]
    },
    {
      "cell_type": "markdown",
      "source": [
        "MGT7216 - Data Mining - Assignment - 1"
      ],
      "metadata": {
        "id": "tw_X5eWaEwBf"
      }
    },
    {
      "cell_type": "markdown",
      "source": [],
      "metadata": {
        "id": "A8Viw5CPEtU9"
      }
    }
  ]
}